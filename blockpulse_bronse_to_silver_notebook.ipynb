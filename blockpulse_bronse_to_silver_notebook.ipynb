{
 "cells": [
  {
   "cell_type": "code",
   "execution_count": 0,
   "metadata": {
    "application/vnd.databricks.v1+cell": {
     "cellMetadata": {
      "byteLimit": 2048000,
      "rowLimit": 10000
     },
     "inputWidgets": {},
     "nuid": "676fca0d-b9f7-478c-bf35-c40885d1ded1",
     "showTitle": false,
     "tableResultSettingsMap": {},
     "title": ""
    }
   },
   "outputs": [],
   "source": [
    "service_credential = dbutils.secrets.get(scope=\"blockpulse_keyvault_scope\",key=\"blockpulsedatabrickssecret\")\n",
    "\n",
    "spark.conf.set(\"fs.azure.account.auth.type.blockpulsecrypto.dfs.core.windows.net\", \"OAuth\")\n",
    "spark.conf.set(\"fs.azure.account.oauth.provider.type.blockpulsecrypto.dfs.core.windows.net\", \"org.apache.hadoop.fs.azurebfs.oauth2.ClientCredsTokenProvider\")\n",
    "spark.conf.set(\"fs.azure.account.oauth2.client.id.blockpulsecrypto.dfs.core.windows.net\", \"39057514-1421-4818-9f98-8bcc69c384d4\")\n",
    "spark.conf.set(\"fs.azure.account.oauth2.client.secret.blockpulsecrypto.dfs.core.windows.net\", service_credential)\n",
    "spark.conf.set(\"fs.azure.account.oauth2.client.endpoint.blockpulsecrypto.dfs.core.windows.net\", \"https://login.microsoftonline.com/0dba45aa-3354-4d4c-8c45-eea7b490aebe/oauth2/token\")"
   ]
  },
  {
   "cell_type": "code",
   "execution_count": 0,
   "metadata": {
    "application/vnd.databricks.v1+cell": {
     "cellMetadata": {
      "byteLimit": 2048000,
      "rowLimit": 10000
     },
     "inputWidgets": {},
     "nuid": "377a2700-64a6-43d9-931e-aa3268e4dc8d",
     "showTitle": false,
     "tableResultSettingsMap": {},
     "title": ""
    }
   },
   "outputs": [
    {
     "output_type": "stream",
     "name": "stdout",
     "output_type": "stream",
     "text": [
      "This is the length of all the data in the bronze folder: 100\n+--------+---------------------+--------------------+----------+---------------------+--------------------+--------------------+-------------+-----------------------+--------+-----------+--------------------+--------------------+--------+-------------+---------------------+--------------------------------+---------------+----------+--------+--------------------+---------------------------+--------------------+------+--------------------+---------------+\n|     ath|ath_change_percentage|            ath_date|       atl|atl_change_percentage|            atl_date|  circulating_supply|current_price|fully_diluted_valuation|high_24h|         id|               image|        last_updated| low_24h|   market_cap|market_cap_change_24h|market_cap_change_percentage_24h|market_cap_rank|max_supply|    name|    price_change_24h|price_change_percentage_24h|                 roi|symbol|        total_supply|   total_volume|\n+--------+---------------------+--------------------+----------+---------------------+--------------------+--------------------+-------------+-----------------------+--------+-----------+--------------------+--------------------+--------+-------------+---------------------+--------------------------------+---------------+----------+--------+--------------------+---------------------------+--------------------+------+--------------------+---------------+\n|122838.0|             -3.57213|2025-07-14T07:56:...|     67.81|          174581.8952|2013-07-06T00:00:...|         1.9898203E7|     118486.0|          2357964579936|118500.0|    bitcoin|https://coin-imag...|2025-07-27T15:32:...|117890.0|2357964579936|      1.1891001513E10|                         0.50685|              1|     2.1E7| Bitcoin|              571.94|                    0.48505|                NULL|   btc|         1.9898203E7|2.2700624858E10|\n| 4878.26|            -22.03166|2021-11-10T14:24:...|  0.432979|         878349.08301|2015-10-20T00:00:...| 1.207109379113029E8|      3807.96|           459529411315| 3830.66|   ethereum|https://coin-imag...|2025-07-27T15:32:...| 3721.39| 459529411315|        9.801404066E9|                         2.17941|              2|      NULL|Ethereum|               82.24|                    2.20732|{btc, 4198.215263...|   eth| 1.207109379113029E8|2.1652224924E10|\n|    3.65|            -12.95796|2025-07-18T03:40:...|0.00268621|         118054.79057|2014-05-22T00:00:...|     5.9239646627E10|         3.18|           317997708914|    3.23|     ripple|https://coin-imag...|2025-07-27T15:32:...|    3.16| 188407281504| -2.006773867831421E8|                         -0.1064|              3|    1.0E11|     XRP|-0.00541163145940...|                   -0.16996|                NULL|   xrp|     9.9985901574E10|  3.514385257E9|\n|    1.32|             -24.3969|2018-07-24T00:00:...|  0.572521|             74.71867|2015-03-02T00:00:...|1.635732153298112E11|          1.0|           163620497964|     1.0|     tether|https://coin-imag...|2025-07-27T15:32:...|     1.0| 163620497964|          2.7347088E8|                         0.16742|              4|      NULL|  Tether| -2.4873498405409E-5|                   -0.00249|                NULL|  usdt|1.635732153298112E11|6.3818159777E10|\n|  808.09|             -1.33346|2025-07-23T12:05:...| 0.0398177|        2002316.07977|2017-10-19T00:00:...|       1.392886004E8|       798.51|           111229156576|  798.93|binancecoin|https://coin-imag...|2025-07-27T15:32:...|  779.07| 111229156576|        2.559735859E9|                         2.35553|              5|     2.0E8|     BNB|               18.35|                    2.35147|                NULL|   bnb|      1.3928860007E8|   1.10042748E9|\n+--------+---------------------+--------------------+----------+---------------------+--------------------+--------------------+-------------+-----------------------+--------+-----------+--------------------+--------------------+--------+-------------+---------------------+--------------------------------+---------------+----------+--------+--------------------+---------------------------+--------------------+------+--------------------+---------------+\nonly showing top 5 rows\n"
     ]
    }
   ],
   "source": [
    "\n",
    "from pyspark.sql import SparkSession\n",
    "from pyspark.sql.functions import *\n",
    "from pyspark.sql.window import Window\n",
    "from pyspark.sql.types import *\n",
    "from delta.tables import *\n",
    "from datetime import datetime\n",
    "\n",
    "spark= SparkSession.builder.appName(\"BlockPulse Bronze to Silver Pipeline\").getOrCreate()\n",
    "\n",
    "#Move Data from broze to Silver Layer\n",
    "storage_account='blockpulsecrypto'\n",
    "container='blockpulsedatacontainer'\n",
    "today=datetime.now()\n",
    "current_year=today.year\n",
    "current_month=today.month\n",
    "current_day=today.day\n",
    "\n",
    "bronze_data= f\"abfss://{container}@{storage_account}.dfs.core.windows.net/bronze/year={current_year}/month={current_month:02d}/day={current_day:02d}/data.json\"\n",
    "silver_data= f\"abfss://{container}@{storage_account}.dfs.core.windows.net/silver/year={current_year}/month={current_month:02d}/day={current_day:02d}/\"\n",
    "\n",
    "bronze_df=spark.read.format(\"json\").load(bronze_data)\n",
    "\n",
    "print(f\"This is the length of all the data in the bronze folder: {bronze_df.count()}\")\n",
    "\n",
    "display(bronze_df.show(5))"
   ]
  },
  {
   "cell_type": "code",
   "execution_count": 0,
   "metadata": {
    "application/vnd.databricks.v1+cell": {
     "cellMetadata": {
      "byteLimit": 2048000,
      "rowLimit": 10000
     },
     "inputWidgets": {},
     "nuid": "17c625ff-41f6-4494-b9a0-d70f19480d5d",
     "showTitle": false,
     "tableResultSettingsMap": {},
     "title": ""
    }
   },
   "outputs": [
    {
     "output_type": "stream",
     "name": "stdout",
     "output_type": "stream",
     "text": [
      "+----------+----+-----+---+-----------+\n|      date|year|month|day|day_of_week|\n+----------+----+-----+---+-----------+\n|2025-07-27|2025|    7| 27|          1|\n+----------+----+-----+---+-----------+\n\n+-----------+--------+--------------------+--------------------+\n|  crypto_id|  symbol|                name|               image|\n+-----------+--------+--------------------+--------------------+\n|   fartcoin|fartcoin|            Fartcoin|https://coin-imag...|\n|   algorand|    algo|            Algorand|https://coin-imag...|\n|hyperliquid|    hype|         Hyperliquid|https://coin-imag...|\n|   fetch-ai|     fet|Artificial Superi...|https://coin-imag...|\n|    story-2|      ip|               Story|https://coin-imag...|\n+-----------+--------+--------------------+--------------------+\nonly showing top 5 rows\n+-----------+-------------+-----------------+--------------+----------------+--------------------+--------------------+---------------+--------------------+-------------------+----------+-------------+--------------+------------+--------------+------------+-----------+---------------+---------------------+\n|  crypto_id|snapshot_date|current_price_usd|market_cap_usd|total_volume_usd|price_change_24h_usd|price_change_pct_24h|market_cap_rank|  circulating_supply|       total_supply|max_supply|all_time_high|ath_change_pct|all_time_low|atl_change_pct|high_24h_usd|low_24h_usd|prev_volume_usd|volume_change_pct_24h|\n+-----------+-------------+-----------------+--------------+----------------+--------------------+--------------------+---------------+--------------------+-------------------+----------+-------------+--------------+------------+--------------+------------+-----------+---------------+---------------------+\n|       aave|   2025-07-27|           296.22|    4503091893|    3.05615446E8|                2.23|             0.75712|             39|1.5200794397072185E7|              1.6E7|     1.6E7|       661.69|      -55.3349|       26.02|    1035.69855|      298.95|     293.77|           NULL|                 NULL|\n|   algorand|   2025-07-27|         0.279007|    2426164324|    1.26794335E8|          0.00499422|             1.82262|             56| 8.686533072085352E9|8.686535882372353E9|    1.0E10|         3.56|       -92.197|    0.087513|     217.52469|    0.289323|   0.272595|           NULL|                 NULL|\n|      aptos|   2025-07-27|             4.81|    3057065407|    1.35736332E8|          0.00109273|             0.02274|             48| 6.360556233908122E8|1.132832782385676E9|      NULL|        19.92|     -75.89345|        3.08|      55.92336|        4.86|       4.77|           NULL|                 NULL|\n|   arbitrum|   2025-07-27|         0.450501|    2321810677|    2.38453797E8|           0.0036362|             0.81371|             58|        5.15023963E9|             1.0E10|    1.0E10|         2.39|     -81.16027|    0.245747|      83.24653|    0.458365|   0.446865|           NULL|                 NULL|\n|avalanche-2|   2025-07-27|            24.95|   10535988883|    5.57275373E8|            0.181877|             0.73436|             22| 4.222765960335201E8|4.572792960335201E8|     7.2E8|       144.96|     -82.79955|         2.8|     790.16074|       25.62|      24.59|           NULL|                 NULL|\n+-----------+-------------+-----------------+--------------+----------------+--------------------+--------------------+---------------+--------------------+-------------------+----------+-------------+--------------+------------+--------------+------------+-----------+---------------+---------------------+\nonly showing top 5 rows\n"
     ]
    }
   ],
   "source": [
    "\n",
    "base_fact_df = bronze_df.select(\n",
    "    col(\"id\").alias(\"crypto_id\"), \n",
    "    to_date(col(\"last_updated\")).alias(\"snapshot_date\"),   # extract date from timestamp\n",
    "    col(\"current_price\").alias(\"current_price_usd\"),\n",
    "    col(\"market_cap\").alias(\"market_cap_usd\"),\n",
    "    col(\"total_volume\").alias(\"total_volume_usd\"),\n",
    "    col(\"price_change_24h\").alias(\"price_change_24h_usd\"),\n",
    "    col(\"price_change_percentage_24h\").alias(\"price_change_pct_24h\"),\n",
    "    col(\"market_cap_rank\").alias(\"market_cap_rank\"),\n",
    "    col(\"circulating_supply\").alias(\"circulating_supply\"),\n",
    "    col(\"total_supply\").alias(\"total_supply\"),\n",
    "    col(\"max_supply\").alias(\"max_supply\"),\n",
    "    col(\"ath\").alias(\"all_time_high\"),\n",
    "    col(\"ath_change_percentage\").alias(\"ath_change_pct\"),\n",
    "    col(\"atl\").alias(\"all_time_low\"),\n",
    "    col(\"atl_change_percentage\").alias(\"atl_change_pct\"),\n",
    "    col(\"high_24h\").alias(\"high_24h_usd\"),\n",
    "    col(\"low_24h\").alias(\"low_24h_usd\")\n",
    ")\n",
    "\n",
    "window_spec = Window.partitionBy(\"crypto_id\").orderBy(\"snapshot_date\")\n",
    "\n",
    "crypto_market_snapshot_fact_df = base_fact_df.withColumn(\n",
    "    \"prev_volume_usd\",\n",
    "    lag(\"total_volume_usd\").over(window_spec)\n",
    ").withColumn(\n",
    "    \"volume_change_pct_24h\",\n",
    "    round(\n",
    "        ((col(\"total_volume_usd\") - col(\"prev_volume_usd\")) / col(\"prev_volume_usd\")) * 100, 2\n",
    "    )\n",
    ")\n",
    "\n",
    "crypto_asset_dim_df = bronze_df.select(\n",
    "    col(\"id\").alias(\"crypto_id\"),\n",
    "    \"symbol\",\n",
    "    \"name\",\n",
    "    \"image\"\n",
    ").dropDuplicates([\"crypto_id\"])\n",
    "\n",
    "date_dim = bronze_df.select(\n",
    "    to_date(\"last_updated\").alias(\"date\")\n",
    ").dropDuplicates([\"date\"])\n",
    "\n",
    "date_dim_df = date_dim \\\n",
    "    .withColumn(\"year\", year(\"date\").cast(LongType())) \\\n",
    "    .withColumn(\"month\", month(\"date\").cast(LongType())) \\\n",
    "    .withColumn(\"day\", dayofmonth(\"date\").cast(LongType())) \\\n",
    "    .withColumn(\"day_of_week\", dayofweek(\"date\").cast(LongType()))\n",
    "\n",
    "\n",
    "\n",
    "# Save the crypto_market_snapshot_fact DataFrame for today in Parquet Format\n",
    "crypto_market_snapshot_fact_df.write.mode(\"overwrite\").format(\"delta\").option(\"overwriteSchema\", \"true\").save(silver_data+\"crypto_market_snapshot_fact\")\n",
    "\n",
    "# Save the crypto_asset_dim DataFrame for today in Parquet Format\n",
    "crypto_asset_dim_df.write.mode(\"overwrite\").format(\"delta\").option(\"overwriteSchema\", \"true\").save(silver_data+\"crypto_asset_dim\")\n",
    "\n",
    "\n",
    "# Save the date_dim DataFrame for today in Parquet Format\n",
    "date_dim_df.write.mode(\"overwrite\").format(\"delta\").option(\"overwriteSchema\", \"true\").save(silver_data+\"date_dim\")\n",
    "\n",
    "\n",
    "date_dim_df.show(5)\n",
    "\n",
    "crypto_asset_dim_df.show(5)\n",
    "\n",
    "crypto_market_snapshot_fact_df.show(5)\n",
    "\n"
   ]
  }
 ],
 "metadata": {
  "application/vnd.databricks.v1+notebook": {
   "computePreferences": null,
   "dashboards": [],
   "environmentMetadata": {
    "base_environment": "",
    "environment_version": "2"
   },
   "inputWidgetPreferences": null,
   "language": "python",
   "notebookMetadata": {
    "pythonIndentUnit": 4
   },
   "notebookName": "blockpulse_bronse_to_silver_notebook",
   "widgets": {}
  },
  "language_info": {
   "name": "python"
  }
 },
 "nbformat": 4,
 "nbformat_minor": 0
}